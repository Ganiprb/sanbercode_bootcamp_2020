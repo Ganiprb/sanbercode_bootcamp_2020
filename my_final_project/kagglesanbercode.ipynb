{
  "nbformat": 4,
  "nbformat_minor": 0,
  "metadata": {
    "kernelspec": {
      "display_name": "Python 3",
      "language": "python",
      "name": "python3"
    },
    "language_info": {
      "codemirror_mode": {
        "name": "ipython",
        "version": 3
      },
      "file_extension": ".py",
      "mimetype": "text/x-python",
      "name": "python",
      "nbconvert_exporter": "python",
      "pygments_lexer": "ipython3",
      "version": "3.7.7"
    },
    "colab": {
      "name": "Untitled6.ipynb",
      "provenance": [],
      "collapsed_sections": []
    }
  },
  "cells": [
    {
      "cell_type": "code",
      "metadata": {
        "id": "wlm8Q4ImFtD2",
        "colab_type": "code",
        "colab": {}
      },
      "source": [
        "import pandas as pd\n",
        "import numpy as np\n",
        "\n",
        "df=pd.read_csv('https://drive.google.com/u/0/uc?id=1vtDCOZIOBxkV-x_vkUvlezIX9ZH44bwo&export=download')"
      ],
      "execution_count": 0,
      "outputs": []
    },
    {
      "cell_type": "code",
      "metadata": {
        "id": "Y5nCNMgUFtEA",
        "colab_type": "code",
        "outputId": "a0340a63-676e-4804-a6ee-1357ab8cd91c",
        "colab": {
          "base_uri": "https://localhost:8080/",
          "height": 483
        }
      },
      "source": [
        "import matplotlib.pyplot as plt\n",
        "fig,ax=plt.subplots(figsize=(12,8))\n",
        "ax.scatter(df['Jam per Minggu'],df['Gaji'])\n",
        "plt.show()"
      ],
      "execution_count": 0,
      "outputs": [
        {
          "output_type": "display_data",
          "data": {
            "image/png": "[encoded data removed]",
            "text/plain": [
              "<Figure size 864x576 with 1 Axes>"
            ]
          },
          "metadata": {
            "tags": [],
            "needs_background": "light"
          }
        }
      ]
    },
    {
      "cell_type": "code",
      "metadata": {
        "id": "_adt1QJbFtEH",
        "colab_type": "code",
        "colab": {}
      },
      "source": [
        "df[df['Kelas Pekerja']=='Tidak Pernah Bekerja']=df[df['Kelas Pekerja']=='Tidak Pernah Bekerja'].replace(to_replace =\"?\", \n",
        "                 value =\"Tidak Pernah Bekerja\") "
      ],
      "execution_count": 0,
      "outputs": []
    },
    {
      "cell_type": "code",
      "metadata": {
        "id": "rgakLeAuFtEN",
        "colab_type": "code",
        "colab": {}
      },
      "source": [
        "df=df[df['Kelas Pekerja']!='?']\n",
        "df=df[df['Pekerjaan']!='?']"
      ],
      "execution_count": 0,
      "outputs": []
    },
    {
      "cell_type": "code",
      "metadata": {
        "id": "kgOAd7usFtER",
        "colab_type": "code",
        "colab": {}
      },
      "source": [
        "#df[(df['Kelas Pekerja']=='?')&(df['Gaji']==1)]\n",
        "#df[df['Kelas Pekerja']=='Tidak Pernah Bekerja']"
      ],
      "execution_count": 0,
      "outputs": []
    },
    {
      "cell_type": "markdown",
      "metadata": {
        "id": "keD9a3_2FtEV",
        "colab_type": "text"
      },
      "source": [
        "obj_dict={'Wiraswasta':                       26589\n",
        "Pekerja Bebas Bukan Perusahan     3072\n",
        "Pemerintah Lokal                  2454\n",
        "Pemerintah Negara                 1579\n",
        "Pekerja Bebas Perusahaan          1345\n",
        "Pemerintah Provinsi               1128\n",
        "Tanpa di Bayar                      16\n",
        "Tidak Pernah Bekerja "
      ]
    },
    {
      "cell_type": "code",
      "metadata": {
        "id": "HMrHZc5KFtEW",
        "colab_type": "code",
        "colab": {}
      },
      "source": [
        "kelas_pekerja_gaji_mean = df.groupby('Kelas Pekerja').Gaji.mean()\n",
        "df['kelas_pekerja_gaji_enc'] = df['Kelas Pekerja'].map(kelas_pekerja_gaji_mean)"
      ],
      "execution_count": 0,
      "outputs": []
    },
    {
      "cell_type": "code",
      "metadata": {
        "id": "IPxFiHlYFtEa",
        "colab_type": "code",
        "outputId": "1fe8d615-27f5-401d-920f-f489521e02ea",
        "colab": {
          "base_uri": "https://localhost:8080/",
          "height": 34
        }
      },
      "source": [
        "encoded_feature = df['kelas_pekerja_gaji_enc'].values\n",
        "first_correlation = np.corrcoef(df['Gaji'].values, encoded_feature)[0][1]\n",
        "print(first_correlation)"
      ],
      "execution_count": 0,
      "outputs": [
        {
          "output_type": "stream",
          "text": [
            "0.16649040464333892\n"
          ],
          "name": "stdout"
        }
      ]
    },
    {
      "cell_type": "code",
      "metadata": {
        "id": "Stt4Q60YFtEh",
        "colab_type": "code",
        "outputId": "1f551668-3bd3-43cb-c33b-22209e90a3c0",
        "colab": {
          "base_uri": "https://localhost:8080/",
          "height": 170
        }
      },
      "source": [
        "df['kelas_pekerja_gaji_enc'].value_counts()"
      ],
      "execution_count": 0,
      "outputs": [
        {
          "output_type": "execute_result",
          "data": {
            "text/plain": [
              "0.217270    26589\n",
              "0.275716     3072\n",
              "0.296251     2454\n",
              "0.271691     1579\n",
              "0.553903     1345\n",
              "0.401596     1128\n",
              "0.125000       16\n",
              "0.000000        6\n",
              "Name: kelas_pekerja_gaji_enc, dtype: int64"
            ]
          },
          "metadata": {
            "tags": []
          },
          "execution_count": 307
        }
      ]
    },
    {
      "cell_type": "code",
      "metadata": {
        "id": "_4Bj-veQFtEl",
        "colab_type": "code",
        "outputId": "49a28c1c-e29a-465e-89d9-1e05019ef130",
        "colab": {
          "base_uri": "https://localhost:8080/",
          "height": 170
        }
      },
      "source": [
        "df['Kelas Pekerja'].value_counts()"
      ],
      "execution_count": 0,
      "outputs": [
        {
          "output_type": "execute_result",
          "data": {
            "text/plain": [
              "Wiraswasta                       26589\n",
              "Pekerja Bebas Bukan Perusahan     3072\n",
              "Pemerintah Lokal                  2454\n",
              "Pemerintah Negara                 1579\n",
              "Pekerja Bebas Perusahaan          1345\n",
              "Pemerintah Provinsi               1128\n",
              "Tanpa di Bayar                      16\n",
              "Tidak Pernah Bekerja                 6\n",
              "Name: Kelas Pekerja, dtype: int64"
            ]
          },
          "metadata": {
            "tags": []
          },
          "execution_count": 308
        }
      ]
    },
    {
      "cell_type": "code",
      "metadata": {
        "id": "AyDeCtjYFtEo",
        "colab_type": "code",
        "colab": {}
      },
      "source": [
        ""
      ],
      "execution_count": 0,
      "outputs": []
    },
    {
      "cell_type": "code",
      "metadata": {
        "id": "2QNMUiUyFtEs",
        "colab_type": "code",
        "colab": {}
      },
      "source": [
        ""
      ],
      "execution_count": 0,
      "outputs": []
    },
    {
      "cell_type": "code",
      "metadata": {
        "id": "74LUYatmFtEw",
        "colab_type": "code",
        "outputId": "00a62a0c-24b3-46e4-a7a9-9b18b544d20d",
        "colab": {
          "base_uri": "https://localhost:8080/",
          "height": 411
        }
      },
      "source": [
        "df.head()"
      ],
      "execution_count": 0,
      "outputs": [
        {
          "output_type": "execute_result",
          "data": {
            "text/html": [
              "<div>\n",
              "<style scoped>\n",
              "    .dataframe tbody tr th:only-of-type {\n",
              "        vertical-align: middle;\n",
              "    }\n",
              "\n",
              "    .dataframe tbody tr th {\n",
              "        vertical-align: top;\n",
              "    }\n",
              "\n",
              "    .dataframe thead th {\n",
              "        text-align: right;\n",
              "    }\n",
              "</style>\n",
              "<table border=\"1\" class=\"dataframe\">\n",
              "  <thead>\n",
              "    <tr style=\"text-align: right;\">\n",
              "      <th></th>\n",
              "      <th>id</th>\n",
              "      <th>Umur</th>\n",
              "      <th>Kelas Pekerja</th>\n",
              "      <th>Berat Akhir</th>\n",
              "      <th>Pendidikan</th>\n",
              "      <th>Jmlh Tahun Pendidikan</th>\n",
              "      <th>Status Perkawinan</th>\n",
              "      <th>Pekerjaan</th>\n",
              "      <th>Jenis Kelamin</th>\n",
              "      <th>Keuntungan Kapital</th>\n",
              "      <th>Kerugian Capital</th>\n",
              "      <th>Jam per Minggu</th>\n",
              "      <th>Gaji</th>\n",
              "      <th>kelas_pekerja_gaji_enc</th>\n",
              "    </tr>\n",
              "  </thead>\n",
              "  <tbody>\n",
              "    <tr>\n",
              "      <th>0</th>\n",
              "      <td>27247</td>\n",
              "      <td>59</td>\n",
              "      <td>Pemerintah Negara</td>\n",
              "      <td>139616</td>\n",
              "      <td>Master</td>\n",
              "      <td>14</td>\n",
              "      <td>Menikah</td>\n",
              "      <td>Ekesekutif Managerial</td>\n",
              "      <td>Laki2</td>\n",
              "      <td>0.0</td>\n",
              "      <td>0.0</td>\n",
              "      <td>50.0</td>\n",
              "      <td>1</td>\n",
              "      <td>0.271691</td>\n",
              "    </tr>\n",
              "    <tr>\n",
              "      <th>1</th>\n",
              "      <td>1640</td>\n",
              "      <td>52</td>\n",
              "      <td>Wiraswasta</td>\n",
              "      <td>158993</td>\n",
              "      <td>SMA</td>\n",
              "      <td>9</td>\n",
              "      <td>Cerai</td>\n",
              "      <td>Servis Lainnya</td>\n",
              "      <td>Perempuan</td>\n",
              "      <td>0.0</td>\n",
              "      <td>0.0</td>\n",
              "      <td>38.0</td>\n",
              "      <td>0</td>\n",
              "      <td>0.217270</td>\n",
              "    </tr>\n",
              "    <tr>\n",
              "      <th>2</th>\n",
              "      <td>45206</td>\n",
              "      <td>52</td>\n",
              "      <td>Pekerja Bebas Bukan Perusahan</td>\n",
              "      <td>284648</td>\n",
              "      <td>SMA</td>\n",
              "      <td>9</td>\n",
              "      <td>Cerai</td>\n",
              "      <td>Ekesekutif Managerial</td>\n",
              "      <td>Perempuan</td>\n",
              "      <td>0.0</td>\n",
              "      <td>0.0</td>\n",
              "      <td>99.0</td>\n",
              "      <td>1</td>\n",
              "      <td>0.275716</td>\n",
              "    </tr>\n",
              "    <tr>\n",
              "      <th>3</th>\n",
              "      <td>16154</td>\n",
              "      <td>45</td>\n",
              "      <td>Wiraswasta</td>\n",
              "      <td>132847</td>\n",
              "      <td>SMA</td>\n",
              "      <td>9</td>\n",
              "      <td>Belum Pernah Menikah</td>\n",
              "      <td>Pembersih</td>\n",
              "      <td>Perempuan</td>\n",
              "      <td>0.0</td>\n",
              "      <td>0.0</td>\n",
              "      <td>40.0</td>\n",
              "      <td>0</td>\n",
              "      <td>0.217270</td>\n",
              "    </tr>\n",
              "    <tr>\n",
              "      <th>4</th>\n",
              "      <td>43023</td>\n",
              "      <td>28</td>\n",
              "      <td>Wiraswasta</td>\n",
              "      <td>103432</td>\n",
              "      <td>SMA</td>\n",
              "      <td>9</td>\n",
              "      <td>Belum Pernah Menikah</td>\n",
              "      <td>Supir</td>\n",
              "      <td>Laki2</td>\n",
              "      <td>0.0</td>\n",
              "      <td>0.0</td>\n",
              "      <td>45.0</td>\n",
              "      <td>1</td>\n",
              "      <td>0.217270</td>\n",
              "    </tr>\n",
              "  </tbody>\n",
              "</table>\n",
              "</div>"
            ],
            "text/plain": [
              "      id  Umur  ... Gaji  kelas_pekerja_gaji_enc\n",
              "0  27247    59  ...    1                0.271691\n",
              "1   1640    52  ...    0                0.217270\n",
              "2  45206    52  ...    1                0.275716\n",
              "3  16154    45  ...    0                0.217270\n",
              "4  43023    28  ...    1                0.217270\n",
              "\n",
              "[5 rows x 14 columns]"
            ]
          },
          "metadata": {
            "tags": []
          },
          "execution_count": 309
        }
      ]
    },
    {
      "cell_type": "code",
      "metadata": {
        "id": "-btWPXmtFtE2",
        "colab_type": "code",
        "colab": {}
      },
      "source": [
        "#obj_dict={'1st-4th':0,\n",
        " #        '5th-6th':1,\n",
        "  #       'SD':2,\n",
        "  #       '7th-8th':3,\n",
        "   #      '9th':4,\n",
        "   #      '10th':5,\n",
        " #        '11th':6,\n",
        " #        '12th':7,\n",
        "  #       'SMA':8,\n",
        "  #        'D3':9,\n",
        "  #        'D4':10,\n",
        "   #      'Pendidikan Tinggi':11,\n",
        "    #      'Sarjana':12,\n",
        "   #       'Sekolah Professional':13,\n",
        "      #    'Master':14,\n",
        "     #     'Doktor':15\n",
        "       #  }"
      ],
      "execution_count": 0,
      "outputs": []
    },
    {
      "cell_type": "code",
      "metadata": {
        "id": "fMf12R4LFtE7",
        "colab_type": "code",
        "colab": {}
      },
      "source": [
        "#df['Pendidikan']=df['Pendidikan'].replace(obj_dict)"
      ],
      "execution_count": 0,
      "outputs": []
    },
    {
      "cell_type": "code",
      "metadata": {
        "id": "2NMHY91vFtFB",
        "colab_type": "code",
        "colab": {}
      },
      "source": [
        "pekerjaan_gaji_mean = df.groupby('Pekerjaan').Gaji.mean()\n",
        "df['pekerjaan_gaji_enc'] = df['Pekerjaan'].map(pekerjaan_gaji_mean)"
      ],
      "execution_count": 0,
      "outputs": []
    },
    {
      "cell_type": "code",
      "metadata": {
        "id": "nCLxlUwyFtFI",
        "colab_type": "code",
        "outputId": "a539244e-273d-47ef-db16-4c9890f09433",
        "colab": {
          "base_uri": "https://localhost:8080/",
          "height": 289
        }
      },
      "source": [
        "df['pekerjaan_gaji_enc'].value_counts()"
      ],
      "execution_count": 0,
      "outputs": [
        {
          "output_type": "execute_result",
          "data": {
            "text/plain": [
              "0.450417    4911\n",
              "0.473695    4790\n",
              "0.222431    4788\n",
              "0.142922    4408\n",
              "0.269026    4323\n",
              "0.039129    3859\n",
              "0.129412    2380\n",
              "0.206025    1859\n",
              "0.065455    1650\n",
              "0.114783    1150\n",
              "0.291444    1122\n",
              "0.306540     734\n",
              "0.015152     198\n",
              "0.363636      11\n",
              "0.000000       6\n",
              "Name: pekerjaan_gaji_enc, dtype: int64"
            ]
          },
          "metadata": {
            "tags": []
          },
          "execution_count": 313
        }
      ]
    },
    {
      "cell_type": "code",
      "metadata": {
        "id": "W-IzNx15FtFL",
        "colab_type": "code",
        "outputId": "4efadc13-0f5e-4883-eb40-d0741440f4b6",
        "colab": {
          "base_uri": "https://localhost:8080/",
          "height": 289
        }
      },
      "source": [
        "df['Pekerjaan'].value_counts()\n",
        "\n"
      ],
      "execution_count": 0,
      "outputs": [
        {
          "output_type": "execute_result",
          "data": {
            "text/plain": [
              "Spesialis                4911\n",
              "Ekesekutif Managerial    4790\n",
              "Perbaikan Kerajinan      4788\n",
              "Pemuka Agama             4408\n",
              "Sales                    4323\n",
              "Servis Lainnya           3859\n",
              "Mesin Inspeksi           2380\n",
              "Supir                    1859\n",
              "Pembersih                1650\n",
              "Petani                   1150\n",
              "Tech-support             1122\n",
              "Penjaga                   734\n",
              "Asisten Rumah Tangga      198\n",
              "Tentara                    11\n",
              "Tidak Pernah Bekerja        6\n",
              "Name: Pekerjaan, dtype: int64"
            ]
          },
          "metadata": {
            "tags": []
          },
          "execution_count": 314
        }
      ]
    },
    {
      "cell_type": "code",
      "metadata": {
        "id": "19gwAUhMFtFT",
        "colab_type": "code",
        "outputId": "3200a84b-2a8a-412c-c914-2b9e96728c34",
        "colab": {
          "base_uri": "https://localhost:8080/",
          "height": 34
        }
      },
      "source": [
        "aencoded_feature = df['pekerjaan_gaji_enc'].values\n",
        "first_correlation = np.corrcoef(df['Gaji'].values, encoded_feature)[0][1]\n",
        "print(first_correlation)"
      ],
      "execution_count": 0,
      "outputs": [
        {
          "output_type": "stream",
          "text": [
            "0.16649040464333892\n"
          ],
          "name": "stdout"
        }
      ]
    },
    {
      "cell_type": "code",
      "metadata": {
        "id": "BjiaolqKFtFX",
        "colab_type": "code",
        "colab": {}
      },
      "source": [
        "del df['Pendidikan']\n",
        "del df['Pekerjaan']\n",
        "del df['Kelas Pekerja']\n"
      ],
      "execution_count": 0,
      "outputs": []
    },
    {
      "cell_type": "code",
      "metadata": {
        "id": "bJEgXnNzFtFa",
        "colab_type": "code",
        "colab": {}
      },
      "source": [
        "df=pd.get_dummies(df,columns=['Status Perkawinan','Jenis Kelamin'])"
      ],
      "execution_count": 0,
      "outputs": []
    },
    {
      "cell_type": "code",
      "metadata": {
        "id": "1pZaxD2HFtFc",
        "colab_type": "code",
        "outputId": "590d9b47-13fe-445d-bbc1-643a09c15a70",
        "colab": {
          "base_uri": "https://localhost:8080/",
          "height": 473
        }
      },
      "source": [
        "del df['Status Perkawinan_Belum Pernah Menikah']\n",
        "del df['Jenis Kelamin_Perempuan']\n",
        "df"
      ],
      "execution_count": 0,
      "outputs": [
        {
          "output_type": "execute_result",
          "data": {
            "text/html": [
              "<div>\n",
              "<style scoped>\n",
              "    .dataframe tbody tr th:only-of-type {\n",
              "        vertical-align: middle;\n",
              "    }\n",
              "\n",
              "    .dataframe tbody tr th {\n",
              "        vertical-align: top;\n",
              "    }\n",
              "\n",
              "    .dataframe thead th {\n",
              "        text-align: right;\n",
              "    }\n",
              "</style>\n",
              "<table border=\"1\" class=\"dataframe\">\n",
              "  <thead>\n",
              "    <tr style=\"text-align: right;\">\n",
              "      <th></th>\n",
              "      <th>id</th>\n",
              "      <th>Umur</th>\n",
              "      <th>Berat Akhir</th>\n",
              "      <th>Jmlh Tahun Pendidikan</th>\n",
              "      <th>Keuntungan Kapital</th>\n",
              "      <th>Kerugian Capital</th>\n",
              "      <th>Jam per Minggu</th>\n",
              "      <th>Gaji</th>\n",
              "      <th>kelas_pekerja_gaji_enc</th>\n",
              "      <th>pekerjaan_gaji_enc</th>\n",
              "      <th>Status Perkawinan_Berpisah</th>\n",
              "      <th>Status Perkawinan_Cerai</th>\n",
              "      <th>Status Perkawinan_Janda</th>\n",
              "      <th>Status Perkawinan_Menikah</th>\n",
              "      <th>Status Perkawinan_Menikah LDR</th>\n",
              "      <th>Jenis Kelamin_Laki2</th>\n",
              "    </tr>\n",
              "  </thead>\n",
              "  <tbody>\n",
              "    <tr>\n",
              "      <th>0</th>\n",
              "      <td>27247</td>\n",
              "      <td>59</td>\n",
              "      <td>139616</td>\n",
              "      <td>14</td>\n",
              "      <td>0.0</td>\n",
              "      <td>0.0</td>\n",
              "      <td>50.0</td>\n",
              "      <td>1</td>\n",
              "      <td>0.271691</td>\n",
              "      <td>0.473695</td>\n",
              "      <td>0</td>\n",
              "      <td>0</td>\n",
              "      <td>0</td>\n",
              "      <td>1</td>\n",
              "      <td>0</td>\n",
              "      <td>1</td>\n",
              "    </tr>\n",
              "    <tr>\n",
              "      <th>1</th>\n",
              "      <td>1640</td>\n",
              "      <td>52</td>\n",
              "      <td>158993</td>\n",
              "      <td>9</td>\n",
              "      <td>0.0</td>\n",
              "      <td>0.0</td>\n",
              "      <td>38.0</td>\n",
              "      <td>0</td>\n",
              "      <td>0.217270</td>\n",
              "      <td>0.039129</td>\n",
              "      <td>0</td>\n",
              "      <td>1</td>\n",
              "      <td>0</td>\n",
              "      <td>0</td>\n",
              "      <td>0</td>\n",
              "      <td>0</td>\n",
              "    </tr>\n",
              "    <tr>\n",
              "      <th>2</th>\n",
              "      <td>45206</td>\n",
              "      <td>52</td>\n",
              "      <td>284648</td>\n",
              "      <td>9</td>\n",
              "      <td>0.0</td>\n",
              "      <td>0.0</td>\n",
              "      <td>99.0</td>\n",
              "      <td>1</td>\n",
              "      <td>0.275716</td>\n",
              "      <td>0.473695</td>\n",
              "      <td>0</td>\n",
              "      <td>1</td>\n",
              "      <td>0</td>\n",
              "      <td>0</td>\n",
              "      <td>0</td>\n",
              "      <td>0</td>\n",
              "    </tr>\n",
              "    <tr>\n",
              "      <th>3</th>\n",
              "      <td>16154</td>\n",
              "      <td>45</td>\n",
              "      <td>132847</td>\n",
              "      <td>9</td>\n",
              "      <td>0.0</td>\n",
              "      <td>0.0</td>\n",
              "      <td>40.0</td>\n",
              "      <td>0</td>\n",
              "      <td>0.217270</td>\n",
              "      <td>0.065455</td>\n",
              "      <td>0</td>\n",
              "      <td>0</td>\n",
              "      <td>0</td>\n",
              "      <td>0</td>\n",
              "      <td>0</td>\n",
              "      <td>0</td>\n",
              "    </tr>\n",
              "    <tr>\n",
              "      <th>4</th>\n",
              "      <td>43023</td>\n",
              "      <td>28</td>\n",
              "      <td>103432</td>\n",
              "      <td>9</td>\n",
              "      <td>0.0</td>\n",
              "      <td>0.0</td>\n",
              "      <td>45.0</td>\n",
              "      <td>1</td>\n",
              "      <td>0.217270</td>\n",
              "      <td>0.206025</td>\n",
              "      <td>0</td>\n",
              "      <td>0</td>\n",
              "      <td>0</td>\n",
              "      <td>0</td>\n",
              "      <td>0</td>\n",
              "      <td>1</td>\n",
              "    </tr>\n",
              "    <tr>\n",
              "      <th>...</th>\n",
              "      <td>...</td>\n",
              "      <td>...</td>\n",
              "      <td>...</td>\n",
              "      <td>...</td>\n",
              "      <td>...</td>\n",
              "      <td>...</td>\n",
              "      <td>...</td>\n",
              "      <td>...</td>\n",
              "      <td>...</td>\n",
              "      <td>...</td>\n",
              "      <td>...</td>\n",
              "      <td>...</td>\n",
              "      <td>...</td>\n",
              "      <td>...</td>\n",
              "      <td>...</td>\n",
              "      <td>...</td>\n",
              "    </tr>\n",
              "    <tr>\n",
              "      <th>38388</th>\n",
              "      <td>46220</td>\n",
              "      <td>47</td>\n",
              "      <td>148169</td>\n",
              "      <td>9</td>\n",
              "      <td>0.0</td>\n",
              "      <td>0.0</td>\n",
              "      <td>40.0</td>\n",
              "      <td>0</td>\n",
              "      <td>0.275716</td>\n",
              "      <td>0.222431</td>\n",
              "      <td>0</td>\n",
              "      <td>0</td>\n",
              "      <td>0</td>\n",
              "      <td>1</td>\n",
              "      <td>0</td>\n",
              "      <td>1</td>\n",
              "    </tr>\n",
              "    <tr>\n",
              "      <th>38389</th>\n",
              "      <td>33268</td>\n",
              "      <td>69</td>\n",
              "      <td>264722</td>\n",
              "      <td>12</td>\n",
              "      <td>0.0</td>\n",
              "      <td>0.0</td>\n",
              "      <td>40.0</td>\n",
              "      <td>1</td>\n",
              "      <td>0.553903</td>\n",
              "      <td>0.269026</td>\n",
              "      <td>0</td>\n",
              "      <td>0</td>\n",
              "      <td>0</td>\n",
              "      <td>1</td>\n",
              "      <td>0</td>\n",
              "      <td>1</td>\n",
              "    </tr>\n",
              "    <tr>\n",
              "      <th>38390</th>\n",
              "      <td>44845</td>\n",
              "      <td>24</td>\n",
              "      <td>31606</td>\n",
              "      <td>13</td>\n",
              "      <td>0.0</td>\n",
              "      <td>0.0</td>\n",
              "      <td>20.0</td>\n",
              "      <td>1</td>\n",
              "      <td>0.275716</td>\n",
              "      <td>0.450417</td>\n",
              "      <td>0</td>\n",
              "      <td>0</td>\n",
              "      <td>0</td>\n",
              "      <td>1</td>\n",
              "      <td>0</td>\n",
              "      <td>0</td>\n",
              "    </tr>\n",
              "    <tr>\n",
              "      <th>38391</th>\n",
              "      <td>4517</td>\n",
              "      <td>47</td>\n",
              "      <td>197836</td>\n",
              "      <td>9</td>\n",
              "      <td>0.0</td>\n",
              "      <td>0.0</td>\n",
              "      <td>45.0</td>\n",
              "      <td>0</td>\n",
              "      <td>0.217270</td>\n",
              "      <td>0.269026</td>\n",
              "      <td>0</td>\n",
              "      <td>0</td>\n",
              "      <td>0</td>\n",
              "      <td>1</td>\n",
              "      <td>0</td>\n",
              "      <td>1</td>\n",
              "    </tr>\n",
              "    <tr>\n",
              "      <th>38392</th>\n",
              "      <td>38693</td>\n",
              "      <td>45</td>\n",
              "      <td>243743</td>\n",
              "      <td>13</td>\n",
              "      <td>0.0</td>\n",
              "      <td>0.0</td>\n",
              "      <td>60.0</td>\n",
              "      <td>1</td>\n",
              "      <td>0.217270</td>\n",
              "      <td>0.473695</td>\n",
              "      <td>0</td>\n",
              "      <td>0</td>\n",
              "      <td>0</td>\n",
              "      <td>1</td>\n",
              "      <td>0</td>\n",
              "      <td>1</td>\n",
              "    </tr>\n",
              "  </tbody>\n",
              "</table>\n",
              "<p>36189 rows × 16 columns</p>\n",
              "</div>"
            ],
            "text/plain": [
              "          id  Umur  ...  Status Perkawinan_Menikah LDR  Jenis Kelamin_Laki2\n",
              "0      27247    59  ...                              0                    1\n",
              "1       1640    52  ...                              0                    0\n",
              "2      45206    52  ...                              0                    0\n",
              "3      16154    45  ...                              0                    0\n",
              "4      43023    28  ...                              0                    1\n",
              "...      ...   ...  ...                            ...                  ...\n",
              "38388  46220    47  ...                              0                    1\n",
              "38389  33268    69  ...                              0                    1\n",
              "38390  44845    24  ...                              0                    0\n",
              "38391   4517    47  ...                              0                    1\n",
              "38392  38693    45  ...                              0                    1\n",
              "\n",
              "[36189 rows x 16 columns]"
            ]
          },
          "metadata": {
            "tags": []
          },
          "execution_count": 318
        }
      ]
    },
    {
      "cell_type": "code",
      "metadata": {
        "id": "pL_SfWyFFtFg",
        "colab_type": "code",
        "outputId": "f2fe1829-26ee-4265-da84-9936c28e14fa",
        "colab": {
          "base_uri": "https://localhost:8080/",
          "height": 34
        }
      },
      "source": [
        "df.isnull().values.any()"
      ],
      "execution_count": 0,
      "outputs": [
        {
          "output_type": "execute_result",
          "data": {
            "text/plain": [
              "False"
            ]
          },
          "metadata": {
            "tags": []
          },
          "execution_count": 319
        }
      ]
    },
    {
      "cell_type": "code",
      "metadata": {
        "id": "bmRmUa5PFtFj",
        "colab_type": "code",
        "outputId": "33b8786b-96be-414d-c40b-4666faf2f951",
        "colab": {
          "base_uri": "https://localhost:8080/",
          "height": 34
        }
      },
      "source": [
        "df['Gaji'].isnull().values.any()"
      ],
      "execution_count": 0,
      "outputs": [
        {
          "output_type": "execute_result",
          "data": {
            "text/plain": [
              "False"
            ]
          },
          "metadata": {
            "tags": []
          },
          "execution_count": 320
        }
      ]
    },
    {
      "cell_type": "code",
      "metadata": {
        "id": "wPNn7nNPFtFo",
        "colab_type": "code",
        "outputId": "399db713-b74e-438d-d9fb-dce7b3a59066",
        "colab": {
          "base_uri": "https://localhost:8080/",
          "height": 351
        }
      },
      "source": [
        "df.describe()"
      ],
      "execution_count": 0,
      "outputs": [
        {
          "output_type": "execute_result",
          "data": {
            "text/html": [
              "<div>\n",
              "<style scoped>\n",
              "    .dataframe tbody tr th:only-of-type {\n",
              "        vertical-align: middle;\n",
              "    }\n",
              "\n",
              "    .dataframe tbody tr th {\n",
              "        vertical-align: top;\n",
              "    }\n",
              "\n",
              "    .dataframe thead th {\n",
              "        text-align: right;\n",
              "    }\n",
              "</style>\n",
              "<table border=\"1\" class=\"dataframe\">\n",
              "  <thead>\n",
              "    <tr style=\"text-align: right;\">\n",
              "      <th></th>\n",
              "      <th>id</th>\n",
              "      <th>Umur</th>\n",
              "      <th>Berat Akhir</th>\n",
              "      <th>Jmlh Tahun Pendidikan</th>\n",
              "      <th>Keuntungan Kapital</th>\n",
              "      <th>Kerugian Capital</th>\n",
              "      <th>Jam per Minggu</th>\n",
              "      <th>Gaji</th>\n",
              "      <th>kelas_pekerja_gaji_enc</th>\n",
              "      <th>pekerjaan_gaji_enc</th>\n",
              "      <th>Status Perkawinan_Berpisah</th>\n",
              "      <th>Status Perkawinan_Cerai</th>\n",
              "      <th>Status Perkawinan_Janda</th>\n",
              "      <th>Status Perkawinan_Menikah</th>\n",
              "      <th>Status Perkawinan_Menikah LDR</th>\n",
              "      <th>Jenis Kelamin_Laki2</th>\n",
              "    </tr>\n",
              "  </thead>\n",
              "  <tbody>\n",
              "    <tr>\n",
              "      <th>count</th>\n",
              "      <td>36189.000000</td>\n",
              "      <td>36189.000000</td>\n",
              "      <td>3.618900e+04</td>\n",
              "      <td>36189.000000</td>\n",
              "      <td>3.618900e+04</td>\n",
              "      <td>3.618900e+04</td>\n",
              "      <td>36189.000000</td>\n",
              "      <td>36189.000000</td>\n",
              "      <td>36189.000000</td>\n",
              "      <td>36189.000000</td>\n",
              "      <td>36189.000000</td>\n",
              "      <td>36189.000000</td>\n",
              "      <td>36189.000000</td>\n",
              "      <td>36189.000000</td>\n",
              "      <td>36189.000000</td>\n",
              "      <td>36189.000000</td>\n",
              "    </tr>\n",
              "    <tr>\n",
              "      <th>mean</th>\n",
              "      <td>23994.512255</td>\n",
              "      <td>38.600017</td>\n",
              "      <td>1.897966e+05</td>\n",
              "      <td>10.134461</td>\n",
              "      <td>1.567952e+07</td>\n",
              "      <td>1.226365e+06</td>\n",
              "      <td>40.967614</td>\n",
              "      <td>0.248142</td>\n",
              "      <td>0.248142</td>\n",
              "      <td>0.248142</td>\n",
              "      <td>0.031253</td>\n",
              "      <td>0.137970</td>\n",
              "      <td>0.028020</td>\n",
              "      <td>0.466882</td>\n",
              "      <td>0.013429</td>\n",
              "      <td>0.676449</td>\n",
              "    </tr>\n",
              "    <tr>\n",
              "      <th>std</th>\n",
              "      <td>13855.680403</td>\n",
              "      <td>13.204073</td>\n",
              "      <td>1.054169e+05</td>\n",
              "      <td>2.567513</td>\n",
              "      <td>1.063611e+08</td>\n",
              "      <td>5.641726e+06</td>\n",
              "      <td>11.998305</td>\n",
              "      <td>0.431940</td>\n",
              "      <td>0.071914</td>\n",
              "      <td>0.148246</td>\n",
              "      <td>0.174002</td>\n",
              "      <td>0.344873</td>\n",
              "      <td>0.165031</td>\n",
              "      <td>0.498909</td>\n",
              "      <td>0.115107</td>\n",
              "      <td>0.467837</td>\n",
              "    </tr>\n",
              "    <tr>\n",
              "      <th>min</th>\n",
              "      <td>0.000000</td>\n",
              "      <td>17.000000</td>\n",
              "      <td>1.349200e+04</td>\n",
              "      <td>1.000000</td>\n",
              "      <td>0.000000e+00</td>\n",
              "      <td>0.000000e+00</td>\n",
              "      <td>1.000000</td>\n",
              "      <td>0.000000</td>\n",
              "      <td>0.000000</td>\n",
              "      <td>0.000000</td>\n",
              "      <td>0.000000</td>\n",
              "      <td>0.000000</td>\n",
              "      <td>0.000000</td>\n",
              "      <td>0.000000</td>\n",
              "      <td>0.000000</td>\n",
              "      <td>0.000000</td>\n",
              "    </tr>\n",
              "    <tr>\n",
              "      <th>25%</th>\n",
              "      <td>11999.000000</td>\n",
              "      <td>28.000000</td>\n",
              "      <td>1.177470e+05</td>\n",
              "      <td>9.000000</td>\n",
              "      <td>0.000000e+00</td>\n",
              "      <td>0.000000e+00</td>\n",
              "      <td>40.000000</td>\n",
              "      <td>0.000000</td>\n",
              "      <td>0.217270</td>\n",
              "      <td>0.129412</td>\n",
              "      <td>0.000000</td>\n",
              "      <td>0.000000</td>\n",
              "      <td>0.000000</td>\n",
              "      <td>0.000000</td>\n",
              "      <td>0.000000</td>\n",
              "      <td>0.000000</td>\n",
              "    </tr>\n",
              "    <tr>\n",
              "      <th>50%</th>\n",
              "      <td>23999.000000</td>\n",
              "      <td>37.000000</td>\n",
              "      <td>1.785510e+05</td>\n",
              "      <td>10.000000</td>\n",
              "      <td>0.000000e+00</td>\n",
              "      <td>0.000000e+00</td>\n",
              "      <td>40.000000</td>\n",
              "      <td>0.000000</td>\n",
              "      <td>0.217270</td>\n",
              "      <td>0.222431</td>\n",
              "      <td>0.000000</td>\n",
              "      <td>0.000000</td>\n",
              "      <td>0.000000</td>\n",
              "      <td>0.000000</td>\n",
              "      <td>0.000000</td>\n",
              "      <td>1.000000</td>\n",
              "    </tr>\n",
              "    <tr>\n",
              "      <th>75%</th>\n",
              "      <td>35986.000000</td>\n",
              "      <td>47.000000</td>\n",
              "      <td>2.377310e+05</td>\n",
              "      <td>13.000000</td>\n",
              "      <td>0.000000e+00</td>\n",
              "      <td>0.000000e+00</td>\n",
              "      <td>45.000000</td>\n",
              "      <td>0.000000</td>\n",
              "      <td>0.271691</td>\n",
              "      <td>0.450417</td>\n",
              "      <td>0.000000</td>\n",
              "      <td>0.000000</td>\n",
              "      <td>0.000000</td>\n",
              "      <td>1.000000</td>\n",
              "      <td>0.000000</td>\n",
              "      <td>1.000000</td>\n",
              "    </tr>\n",
              "    <tr>\n",
              "      <th>max</th>\n",
              "      <td>47991.000000</td>\n",
              "      <td>90.000000</td>\n",
              "      <td>1.490400e+06</td>\n",
              "      <td>16.000000</td>\n",
              "      <td>1.399986e+09</td>\n",
              "      <td>6.098400e+07</td>\n",
              "      <td>99.000000</td>\n",
              "      <td>1.000000</td>\n",
              "      <td>0.553903</td>\n",
              "      <td>0.473695</td>\n",
              "      <td>1.000000</td>\n",
              "      <td>1.000000</td>\n",
              "      <td>1.000000</td>\n",
              "      <td>1.000000</td>\n",
              "      <td>1.000000</td>\n",
              "      <td>1.000000</td>\n",
              "    </tr>\n",
              "  </tbody>\n",
              "</table>\n",
              "</div>"
            ],
            "text/plain": [
              "                 id  ...  Jenis Kelamin_Laki2\n",
              "count  36189.000000  ...         36189.000000\n",
              "mean   23994.512255  ...             0.676449\n",
              "std    13855.680403  ...             0.467837\n",
              "min        0.000000  ...             0.000000\n",
              "25%    11999.000000  ...             0.000000\n",
              "50%    23999.000000  ...             1.000000\n",
              "75%    35986.000000  ...             1.000000\n",
              "max    47991.000000  ...             1.000000\n",
              "\n",
              "[8 rows x 16 columns]"
            ]
          },
          "metadata": {
            "tags": []
          },
          "execution_count": 321
        }
      ]
    },
    {
      "cell_type": "code",
      "metadata": {
        "id": "XijoGrItFtFt",
        "colab_type": "code",
        "colab": {}
      },
      "source": [
        "#from sklearn.preprocessing import normalize\n",
        "\n",
        "X=df.drop(columns='Gaji')\n",
        "#norm=normalize(X)\n",
        "#norm_data=norm.fit_transform(X)\n",
        "#norm_data.shape\n",
        "#norm.shape\n"
      ],
      "execution_count": 0,
      "outputs": []
    },
    {
      "cell_type": "code",
      "metadata": {
        "id": "PCCq2mUqFtF0",
        "colab_type": "code",
        "outputId": "9b11a7fc-d161-42e0-9a7e-763fb083d388",
        "colab": {
          "base_uri": "https://localhost:8080/",
          "height": 391
        }
      },
      "source": [
        "col_names=['id','Umur',\n",
        "           'Berat Akhir',\n",
        "           'Jmlh Tahun Pendidikan',\n",
        "           'Keuntungan Kapital',\n",
        "           'Kerugian Capital',\n",
        "           'Jam per Minggu',\n",
        "           'kelas_pekerja_gaji_enc',\n",
        "           'pekerjaan_gaji_enc',\n",
        "           'Status Perkawinan_Berpisah',\n",
        "           'Status Perkawinan_Cerai',\n",
        "           'Status Perkawinan_Janda',\n",
        "           'Status Perkawinan_Menikah',\n",
        "           'Status Perkawinan_Menikah LDR',\n",
        "           'Jenis Kelamin_Laki2']\n",
        "#norm_df=pd.DataFrame(norm_data,columns=col_names)\n",
        "#norm_df\n",
        "#norm_df=pd.DataFrame(norm,columns=col_names)\n",
        "#norm_df\n",
        "\n",
        "from sklearn.preprocessing import MinMaxScaler\n",
        "\n",
        "scaler = MinMaxScaler()\n",
        "scaled_df = scaler.fit_transform(X)\n",
        "scaled_df = pd.DataFrame(scaled_df, columns=col_names)\n",
        "scaled_df.info()"
      ],
      "execution_count": 0,
      "outputs": [
        {
          "output_type": "stream",
          "text": [
            "<class 'pandas.core.frame.DataFrame'>\n",
            "RangeIndex: 36189 entries, 0 to 36188\n",
            "Data columns (total 15 columns):\n",
            " #   Column                         Non-Null Count  Dtype  \n",
            "---  ------                         --------------  -----  \n",
            " 0   id                             36189 non-null  float64\n",
            " 1   Umur                           36189 non-null  float64\n",
            " 2   Berat Akhir                    36189 non-null  float64\n",
            " 3   Jmlh Tahun Pendidikan          36189 non-null  float64\n",
            " 4   Keuntungan Kapital             36189 non-null  float64\n",
            " 5   Kerugian Capital               36189 non-null  float64\n",
            " 6   Jam per Minggu                 36189 non-null  float64\n",
            " 7   kelas_pekerja_gaji_enc         36189 non-null  float64\n",
            " 8   pekerjaan_gaji_enc             36189 non-null  float64\n",
            " 9   Status Perkawinan_Berpisah     36189 non-null  float64\n",
            " 10  Status Perkawinan_Cerai        36189 non-null  float64\n",
            " 11  Status Perkawinan_Janda        36189 non-null  float64\n",
            " 12  Status Perkawinan_Menikah      36189 non-null  float64\n",
            " 13  Status Perkawinan_Menikah LDR  36189 non-null  float64\n",
            " 14  Jenis Kelamin_Laki2            36189 non-null  float64\n",
            "dtypes: float64(15)\n",
            "memory usage: 4.1 MB\n"
          ],
          "name": "stdout"
        }
      ]
    },
    {
      "cell_type": "code",
      "metadata": {
        "id": "usUsNpsbFtF5",
        "colab_type": "code",
        "outputId": "40de53a2-142d-4d42-f72a-b22211de7b2e",
        "colab": {
          "base_uri": "https://localhost:8080/",
          "height": 351
        }
      },
      "source": [
        "#int_gaji=df['Gaji'].astype(int)\n",
        "#norm_df=pd.concat([norm_df,int_gaji])\n",
        "#norm_df.info()\n",
        "df_gaji_new=df['Gaji'].reset_index(drop=True)\n",
        "norm_df=pd.concat([scaled_df,df_gaji_new],axis=1)\n",
        "norm_df.describe()"
      ],
      "execution_count": 0,
      "outputs": [
        {
          "output_type": "execute_result",
          "data": {
            "text/html": [
              "<div>\n",
              "<style scoped>\n",
              "    .dataframe tbody tr th:only-of-type {\n",
              "        vertical-align: middle;\n",
              "    }\n",
              "\n",
              "    .dataframe tbody tr th {\n",
              "        vertical-align: top;\n",
              "    }\n",
              "\n",
              "    .dataframe thead th {\n",
              "        text-align: right;\n",
              "    }\n",
              "</style>\n",
              "<table border=\"1\" class=\"dataframe\">\n",
              "  <thead>\n",
              "    <tr style=\"text-align: right;\">\n",
              "      <th></th>\n",
              "      <th>id</th>\n",
              "      <th>Umur</th>\n",
              "      <th>Berat Akhir</th>\n",
              "      <th>Jmlh Tahun Pendidikan</th>\n",
              "      <th>Keuntungan Kapital</th>\n",
              "      <th>Kerugian Capital</th>\n",
              "      <th>Jam per Minggu</th>\n",
              "      <th>kelas_pekerja_gaji_enc</th>\n",
              "      <th>pekerjaan_gaji_enc</th>\n",
              "      <th>Status Perkawinan_Berpisah</th>\n",
              "      <th>Status Perkawinan_Cerai</th>\n",
              "      <th>Status Perkawinan_Janda</th>\n",
              "      <th>Status Perkawinan_Menikah</th>\n",
              "      <th>Status Perkawinan_Menikah LDR</th>\n",
              "      <th>Jenis Kelamin_Laki2</th>\n",
              "      <th>Gaji</th>\n",
              "    </tr>\n",
              "  </thead>\n",
              "  <tbody>\n",
              "    <tr>\n",
              "      <th>count</th>\n",
              "      <td>36189.000000</td>\n",
              "      <td>36189.000000</td>\n",
              "      <td>36189.000000</td>\n",
              "      <td>36189.000000</td>\n",
              "      <td>36189.000000</td>\n",
              "      <td>36189.000000</td>\n",
              "      <td>36189.000000</td>\n",
              "      <td>36189.000000</td>\n",
              "      <td>36189.000000</td>\n",
              "      <td>36189.000000</td>\n",
              "      <td>36189.000000</td>\n",
              "      <td>36189.000000</td>\n",
              "      <td>36189.000000</td>\n",
              "      <td>36189.000000</td>\n",
              "      <td>36189.000000</td>\n",
              "      <td>36189.000000</td>\n",
              "    </tr>\n",
              "    <tr>\n",
              "      <th>mean</th>\n",
              "      <td>0.499979</td>\n",
              "      <td>0.295891</td>\n",
              "      <td>0.119374</td>\n",
              "      <td>0.608964</td>\n",
              "      <td>0.011200</td>\n",
              "      <td>0.020110</td>\n",
              "      <td>0.407833</td>\n",
              "      <td>0.447987</td>\n",
              "      <td>0.523843</td>\n",
              "      <td>0.031253</td>\n",
              "      <td>0.137970</td>\n",
              "      <td>0.028020</td>\n",
              "      <td>0.466882</td>\n",
              "      <td>0.013429</td>\n",
              "      <td>0.676449</td>\n",
              "      <td>0.248142</td>\n",
              "    </tr>\n",
              "    <tr>\n",
              "      <th>std</th>\n",
              "      <td>0.288714</td>\n",
              "      <td>0.180878</td>\n",
              "      <td>0.071377</td>\n",
              "      <td>0.171168</td>\n",
              "      <td>0.075973</td>\n",
              "      <td>0.092512</td>\n",
              "      <td>0.122432</td>\n",
              "      <td>0.129831</td>\n",
              "      <td>0.312957</td>\n",
              "      <td>0.174002</td>\n",
              "      <td>0.344873</td>\n",
              "      <td>0.165031</td>\n",
              "      <td>0.498909</td>\n",
              "      <td>0.115107</td>\n",
              "      <td>0.467837</td>\n",
              "      <td>0.431940</td>\n",
              "    </tr>\n",
              "    <tr>\n",
              "      <th>min</th>\n",
              "      <td>0.000000</td>\n",
              "      <td>0.000000</td>\n",
              "      <td>0.000000</td>\n",
              "      <td>0.000000</td>\n",
              "      <td>0.000000</td>\n",
              "      <td>0.000000</td>\n",
              "      <td>0.000000</td>\n",
              "      <td>0.000000</td>\n",
              "      <td>0.000000</td>\n",
              "      <td>0.000000</td>\n",
              "      <td>0.000000</td>\n",
              "      <td>0.000000</td>\n",
              "      <td>0.000000</td>\n",
              "      <td>0.000000</td>\n",
              "      <td>0.000000</td>\n",
              "      <td>0.000000</td>\n",
              "    </tr>\n",
              "    <tr>\n",
              "      <th>25%</th>\n",
              "      <td>0.250026</td>\n",
              "      <td>0.150685</td>\n",
              "      <td>0.070590</td>\n",
              "      <td>0.533333</td>\n",
              "      <td>0.000000</td>\n",
              "      <td>0.000000</td>\n",
              "      <td>0.397959</td>\n",
              "      <td>0.392253</td>\n",
              "      <td>0.273196</td>\n",
              "      <td>0.000000</td>\n",
              "      <td>0.000000</td>\n",
              "      <td>0.000000</td>\n",
              "      <td>0.000000</td>\n",
              "      <td>0.000000</td>\n",
              "      <td>0.000000</td>\n",
              "      <td>0.000000</td>\n",
              "    </tr>\n",
              "    <tr>\n",
              "      <th>50%</th>\n",
              "      <td>0.500073</td>\n",
              "      <td>0.273973</td>\n",
              "      <td>0.111760</td>\n",
              "      <td>0.600000</td>\n",
              "      <td>0.000000</td>\n",
              "      <td>0.000000</td>\n",
              "      <td>0.397959</td>\n",
              "      <td>0.392253</td>\n",
              "      <td>0.469566</td>\n",
              "      <td>0.000000</td>\n",
              "      <td>0.000000</td>\n",
              "      <td>0.000000</td>\n",
              "      <td>0.000000</td>\n",
              "      <td>0.000000</td>\n",
              "      <td>1.000000</td>\n",
              "      <td>0.000000</td>\n",
              "    </tr>\n",
              "    <tr>\n",
              "      <th>75%</th>\n",
              "      <td>0.749849</td>\n",
              "      <td>0.410959</td>\n",
              "      <td>0.151830</td>\n",
              "      <td>0.800000</td>\n",
              "      <td>0.000000</td>\n",
              "      <td>0.000000</td>\n",
              "      <td>0.448980</td>\n",
              "      <td>0.490502</td>\n",
              "      <td>0.950859</td>\n",
              "      <td>0.000000</td>\n",
              "      <td>0.000000</td>\n",
              "      <td>0.000000</td>\n",
              "      <td>1.000000</td>\n",
              "      <td>0.000000</td>\n",
              "      <td>1.000000</td>\n",
              "      <td>0.000000</td>\n",
              "    </tr>\n",
              "    <tr>\n",
              "      <th>max</th>\n",
              "      <td>1.000000</td>\n",
              "      <td>1.000000</td>\n",
              "      <td>1.000000</td>\n",
              "      <td>1.000000</td>\n",
              "      <td>1.000000</td>\n",
              "      <td>1.000000</td>\n",
              "      <td>1.000000</td>\n",
              "      <td>1.000000</td>\n",
              "      <td>1.000000</td>\n",
              "      <td>1.000000</td>\n",
              "      <td>1.000000</td>\n",
              "      <td>1.000000</td>\n",
              "      <td>1.000000</td>\n",
              "      <td>1.000000</td>\n",
              "      <td>1.000000</td>\n",
              "      <td>1.000000</td>\n",
              "    </tr>\n",
              "  </tbody>\n",
              "</table>\n",
              "</div>"
            ],
            "text/plain": [
              "                 id          Umur  ...  Jenis Kelamin_Laki2          Gaji\n",
              "count  36189.000000  36189.000000  ...         36189.000000  36189.000000\n",
              "mean       0.499979      0.295891  ...             0.676449      0.248142\n",
              "std        0.288714      0.180878  ...             0.467837      0.431940\n",
              "min        0.000000      0.000000  ...             0.000000      0.000000\n",
              "25%        0.250026      0.150685  ...             0.000000      0.000000\n",
              "50%        0.500073      0.273973  ...             1.000000      0.000000\n",
              "75%        0.749849      0.410959  ...             1.000000      0.000000\n",
              "max        1.000000      1.000000  ...             1.000000      1.000000\n",
              "\n",
              "[8 rows x 16 columns]"
            ]
          },
          "metadata": {
            "tags": []
          },
          "execution_count": 324
        }
      ]
    },
    {
      "cell_type": "code",
      "metadata": {
        "id": "bFLQVIA8FtF-",
        "colab_type": "code",
        "colab": {}
      },
      "source": [
        "#norm_df['Gaji'].isnull().values.any()"
      ],
      "execution_count": 0,
      "outputs": []
    },
    {
      "cell_type": "code",
      "metadata": {
        "id": "yxT5V3cHFtGD",
        "colab_type": "code",
        "colab": {}
      },
      "source": [
        "#norm_df.isnull().sum().sum()"
      ],
      "execution_count": 0,
      "outputs": []
    },
    {
      "cell_type": "code",
      "metadata": {
        "id": "bPU1QlRMFtGI",
        "colab_type": "code",
        "colab": {}
      },
      "source": [
        "#df['Gaji'][df['Gaji']==0].value_counts()"
      ],
      "execution_count": 0,
      "outputs": []
    },
    {
      "cell_type": "code",
      "metadata": {
        "id": "2MqSk7vfFtGO",
        "colab_type": "code",
        "colab": {}
      },
      "source": [
        "#norm_df['Gaji'].astype(int)\n",
        "#norm_df.info()"
      ],
      "execution_count": 0,
      "outputs": []
    },
    {
      "cell_type": "code",
      "metadata": {
        "id": "P-YfuwThFtGT",
        "colab_type": "code",
        "outputId": "05440b60-6012-492b-9121-a97e5dfe71e0",
        "colab": {
          "base_uri": "https://localhost:8080/",
          "height": 68
        }
      },
      "source": [
        "from sklearn.neighbors import KNeighborsClassifier\n",
        "from sklearn.model_selection import GridSearchCV\n",
        "from sklearn.svm import SVC\n",
        "from sklearn.ensemble import VotingClassifier\n",
        "from sklearn.model_selection import train_test_split\n",
        "from sklearn.linear_model import LogisticRegression\n",
        "from sklearn.model_selection import cross_val_score\n",
        "\n",
        "X=norm_df.drop(columns=['Gaji','id']) #'kelas_pekerja_gaji_enc','pekerjaan_gaji_enc',\n",
        "y=norm_df['Gaji']\n",
        "X_train, X_test, y_train, y_test= train_test_split(X,y, test_size=0.2)\n",
        "\n",
        "#lgr=LogisticRegression()\n",
        "#param_lgr={'solver': ['liblinear']}\n",
        "#gscv=GridSearchCV(lgr, param_grid=param_lgr,\n",
        " #                 scoring='roc_auc',\n",
        " #                 cv=50, verbose=1,\n",
        "  #                return_train_score=True )\n",
        "#gscv.fit(X_train,y_train)\n",
        "\n",
        "#knn=KNeighborsClassifier()\n",
        "#param_knn={'n_neighbors':np.arange(49,50),\n",
        " #           'weights':['distance'],\n",
        " #           'metric':['minkowski']}\n",
        "#gscv=GridSearchCV(knn,\n",
        " #                 param_grid=param_knn,\n",
        "  #                scoring='roc_auc',\n",
        "   #               cv=10, verbose=1,\n",
        "    #              return_train_score=True )\n",
        "#gscv.fit(X_train,y_train)\n",
        "\n",
        "#from sklearn.svm import LinearSVC\n",
        "#clf = LinearSVC(random_state=0, verbose=1)\n",
        "#params = {'loss': ['hinge', 'squared_hinge'],\n",
        " #         'multi_class':['ovr','crammer_singer']}\n",
        "#gscv = GridSearchCV(estimator=clf, param_grid=params, cv=10,scoring='roc_auc')\n",
        "#gscv = gscv.fit(X_train, y_train)\n",
        "\n",
        "#svc = SVC()\n",
        "#param_svc = {'kernel': ['linear','sigmoid', 'rbf']}\n",
        "#gscv=GridSearchCV(svc, param_grid=param_svc,\n",
        "#                  scoring='roc_auc',\n",
        " #                 cv=10, verbose=1,\n",
        "  #                return_train_score=True )\n",
        "#gscv.fit(X_train,y_train)\n",
        "\n",
        "from sklearn.ensemble import RandomForestClassifier\n",
        "rfc = RandomForestClassifier(n_estimators=5000)\n",
        "param = {'criterion':['gini', 'entropy'],\n",
        "          'max_features':['auto', 'sqrt', 'log2']}\n",
        "gscv = GridSearchCV(rfc,param_grid=param, scoring='roc_auc',verbose=1, cv=10)\n",
        "gscv = gscv.fit(X_train, y_train)\n",
        "\n",
        "#from sklearn.ensemble import BaggingClassifier\n",
        "#bcr = BaggingClassifier()\n",
        "#param = {'n_estimators':np.arange(99,100)}\n",
        "#gscv = GridSearchCV(bcr,param_grid=param, scoring='roc_auc',verbose=1, cv=10)\n",
        "#gscv = gscv.fit(X, y)"
      ],
      "execution_count": 0,
      "outputs": [
        {
          "output_type": "stream",
          "text": [
            "Fitting 10 folds for each of 6 candidates, totalling 60 fits\n"
          ],
          "name": "stdout"
        },
        {
          "output_type": "stream",
          "text": [
            "[Parallel(n_jobs=1)]: Using backend SequentialBackend with 1 concurrent workers.\n",
            "[Parallel(n_jobs=1)]: Done  60 out of  60 | elapsed: 161.6min finished\n"
          ],
          "name": "stderr"
        }
      ]
    },
    {
      "cell_type": "code",
      "metadata": {
        "id": "RdTxBvBmFtGZ",
        "colab_type": "code",
        "colab": {}
      },
      "source": [
        "y_pred=gscv.predict(X_test)"
      ],
      "execution_count": 0,
      "outputs": []
    },
    {
      "cell_type": "code",
      "metadata": {
        "id": "9o0yg2DDFtGb",
        "colab_type": "code",
        "outputId": "a9116f0c-f48f-41f1-8405-b0d25f0ca60b",
        "colab": {
          "base_uri": "https://localhost:8080/",
          "height": 34
        }
      },
      "source": [
        "gscv.best_score_"
      ],
      "execution_count": 0,
      "outputs": [
        {
          "output_type": "execute_result",
          "data": {
            "text/plain": [
              "0.9079762559369737"
            ]
          },
          "metadata": {
            "tags": []
          },
          "execution_count": 331
        }
      ]
    },
    {
      "cell_type": "code",
      "metadata": {
        "id": "GdZHOMPOFtGe",
        "colab_type": "code",
        "outputId": "30361a02-1f3f-4a0a-9a57-cb7aa1a37cf4",
        "colab": {
          "base_uri": "https://localhost:8080/",
          "height": 34
        }
      },
      "source": [
        "gscv.best_params_ #{'metric': 'minkowski', 'n_neighbors': 49, 'weights': 'distance'}"
      ],
      "execution_count": 0,
      "outputs": [
        {
          "output_type": "execute_result",
          "data": {
            "text/plain": [
              "{'criterion': 'entropy', 'max_features': 'log2'}"
            ]
          },
          "metadata": {
            "tags": []
          },
          "execution_count": 332
        }
      ]
    },
    {
      "cell_type": "code",
      "metadata": {
        "id": "z_WSzseoFtGi",
        "colab_type": "code",
        "outputId": "3151b8a9-717c-4797-844e-4c767696c5bd",
        "colab": {
          "base_uri": "https://localhost:8080/",
          "height": 34
        }
      },
      "source": [
        "from sklearn.metrics import accuracy_score\n",
        "accuracy_score(y_test,y_pred)"
      ],
      "execution_count": 0,
      "outputs": [
        {
          "output_type": "execute_result",
          "data": {
            "text/plain": [
              "0.8527217463387676"
            ]
          },
          "metadata": {
            "tags": []
          },
          "execution_count": 333
        }
      ]
    },
    {
      "cell_type": "code",
      "metadata": {
        "id": "cAIYaqF8FtGm",
        "colab_type": "code",
        "colab": {}
      },
      "source": [
        "X_2=pd.read_csv('https://drive.google.com/u/0/uc?id=1ER06sZV8E2VaMvSjLWGUyo7zWTkJ43S6&export=download')"
      ],
      "execution_count": 0,
      "outputs": []
    },
    {
      "cell_type": "code",
      "metadata": {
        "id": "-eS5VavfFtGq",
        "colab_type": "code",
        "colab": {}
      },
      "source": [
        "X_2[X_2['Kelas Pekerja']=='Tidak Pernah Bekerja']=X_2[X_2['Kelas Pekerja']=='Tidak Pernah Bekerja'].replace(to_replace =\"?\", \n",
        "                 value =\"Tidak Pernah Bekerja\") "
      ],
      "execution_count": 0,
      "outputs": []
    },
    {
      "cell_type": "code",
      "metadata": {
        "id": "HqDemLZWFtGv",
        "colab_type": "code",
        "colab": {}
      },
      "source": [
        "X_2['Pekerjaan'] = X_2['Pekerjaan'].map({'Spesialis': 0.450417, \n",
        "                                       'Ekesekutif Managerial': 0.473695,\n",
        "                                      'Perbaikan Kerajinan':0.222431,\n",
        "                                      'Pemuka Agama':0.142922,\n",
        "                                      'Sales':0.206025,\n",
        "                                      'Servis Lainnya':0.039129,\n",
        "                                      'Mesin Inspeksi':0.129412,\n",
        "                                      'Supir':0.206025,\n",
        "                                      'Pembersih':0.065455,\n",
        "                                      'Petani':0.114783,\n",
        "                                      'Tech-support':0.291444,\n",
        "                                      'Penjaga':0.306540,\n",
        "                                      'Asisten Rumah Tangga':0.015152,\n",
        "                                       'Tentara':0.363636,\n",
        "                                       'Tidak Pernah Bekerja':0.000000})"
      ],
      "execution_count": 0,
      "outputs": []
    },
    {
      "cell_type": "code",
      "metadata": {
        "id": "Y7WSazMHFtG1",
        "colab_type": "code",
        "colab": {}
      },
      "source": [
        "X_2['Kelas Pekerja'] = X_2['Kelas Pekerja'].map({'Wiraswasta': 0.217270, \n",
        "                                       'Pekerja Bebas Bukan Perusahan': 0.275716,\n",
        "                                      'Pemerintah Lokal':0.296251,\n",
        "                                      'Pemerintah Negara':0.271691,\n",
        "                                      'Pekerja Bebas Perusahaan':0.553903,\n",
        "                                      'Pemerintah Provinsi':0.401596,\n",
        "                                      'Tanpa di Bayar':0.125000,\n",
        "                                      'Tidak Pernah Bekerja':0.000000})"
      ],
      "execution_count": 0,
      "outputs": []
    },
    {
      "cell_type": "code",
      "metadata": {
        "id": "MUy84crVFtG9",
        "colab_type": "code",
        "outputId": "8c68cb49-0828-4d81-87e6-9d68342ca64b",
        "colab": {
          "base_uri": "https://localhost:8080/",
          "height": 34
        }
      },
      "source": [
        "#X_2[X_2['Kelas Pekerja']=='?']\n",
        "X_2.isnull().values.any()\n"
      ],
      "execution_count": 0,
      "outputs": [
        {
          "output_type": "execute_result",
          "data": {
            "text/plain": [
              "True"
            ]
          },
          "metadata": {
            "tags": []
          },
          "execution_count": 339
        }
      ]
    },
    {
      "cell_type": "code",
      "metadata": {
        "id": "NZk3ihg1FtHA",
        "colab_type": "code",
        "outputId": "39b921cf-dc98-433d-cc0c-42ec64fa3e67",
        "colab": {
          "base_uri": "https://localhost:8080/",
          "height": 71
        }
      },
      "source": [
        "X_2=X_2[X_2['Kelas Pekerja']!='?']\n",
        "X_2=X_2[X_2['Pekerjaan']!='?']\n",
        "\n",
        "del X_2['Pendidikan']\n",
        "\n",
        "X_2=pd.get_dummies(X_2,columns=['Status Perkawinan','Jenis Kelamin'])\n",
        "\n",
        "del X_2['Status Perkawinan_Belum Pernah Menikah']\n",
        "del X_2['Jenis Kelamin_Perempuan']\n",
        "X_2 = X_2[['Umur','Berat Akhir',\n",
        "           'Jmlh Tahun Pendidikan',\n",
        "           'Keuntungan Kapital',\n",
        "           'Kerugian Capital',\n",
        "           'Jam per Minggu','Kelas Pekerja',\n",
        "           'Pekerjaan','Status Perkawinan_Berpisah',\n",
        "           'Status Perkawinan_Cerai','Status Perkawinan_Janda','Status Perkawinan_Menikah','Status Perkawinan_Menikah LDR',\n",
        "           'Jenis Kelamin_Laki2']]\n",
        "\n",
        "X_2=X_2.fillna(0.000000)"
      ],
      "execution_count": 0,
      "outputs": [
        {
          "output_type": "stream",
          "text": [
            "/usr/local/lib/python3.6/dist-packages/pandas/core/ops/array_ops.py:253: FutureWarning: elementwise comparison failed; returning scalar instead, but in the future will perform elementwise comparison\n",
            "  res_values = method(rvalues)\n"
          ],
          "name": "stderr"
        }
      ]
    },
    {
      "cell_type": "code",
      "metadata": {
        "id": "A14jS2QrFtHG",
        "colab_type": "code",
        "colab": {}
      },
      "source": [
        "X_2.columns=['Umur','Berat Akhir',\n",
        "           'Jmlh Tahun Pendidikan',\n",
        "           'Keuntungan Kapital',\n",
        "           'Kerugian Capital',\n",
        "           'Jam per Minggu','kelas_pekerja_gaji_enc',\n",
        "           'pekerjaan_gaji_enc','Status Perkawinan_Berpisah',\n",
        "           'Status Perkawinan_Cerai','Status Perkawinan_Janda','Status Perkawinan_Menikah','Status Perkawinan_Menikah LDR',\n",
        "           'Jenis Kelamin_Laki2']"
      ],
      "execution_count": 0,
      "outputs": []
    },
    {
      "cell_type": "code",
      "metadata": {
        "id": "ugABcINvFtHN",
        "colab_type": "code",
        "outputId": "f11d18d9-82c6-49f3-a9cb-3da6d91015c8",
        "colab": {
          "base_uri": "https://localhost:8080/",
          "height": 374
        }
      },
      "source": [
        "col_names=['Umur',\n",
        "           'Berat Akhir',\n",
        "           'Jmlh Tahun Pendidikan',\n",
        "           'Keuntungan Kapital',\n",
        "           'Kerugian Capital',\n",
        "           'Jam per Minggu',\n",
        "           'kelas_pekerja_gaji_enc',\n",
        "           'pekerjaan_gaji_enc',\n",
        "           'Status Perkawinan_Berpisah',\n",
        "           'Status Perkawinan_Cerai',\n",
        "           'Status Perkawinan_Janda',\n",
        "           'Status Perkawinan_Menikah',\n",
        "           'Status Perkawinan_Menikah LDR',\n",
        "           'Jenis Kelamin_Laki2']\n",
        "\n",
        "from sklearn.preprocessing import MinMaxScaler\n",
        "\n",
        "scaler = MinMaxScaler()\n",
        "scaled_X_2 = scaler.fit_transform(X_2)\n",
        "scaled_X_2 = pd.DataFrame(scaled_X_2, columns=col_names)\n",
        "scaled_X_2.info()"
      ],
      "execution_count": 0,
      "outputs": [
        {
          "output_type": "stream",
          "text": [
            "<class 'pandas.core.frame.DataFrame'>\n",
            "RangeIndex: 9599 entries, 0 to 9598\n",
            "Data columns (total 14 columns):\n",
            " #   Column                         Non-Null Count  Dtype  \n",
            "---  ------                         --------------  -----  \n",
            " 0   Umur                           9599 non-null   float64\n",
            " 1   Berat Akhir                    9599 non-null   float64\n",
            " 2   Jmlh Tahun Pendidikan          9599 non-null   float64\n",
            " 3   Keuntungan Kapital             9599 non-null   float64\n",
            " 4   Kerugian Capital               9599 non-null   float64\n",
            " 5   Jam per Minggu                 9599 non-null   float64\n",
            " 6   kelas_pekerja_gaji_enc         9599 non-null   float64\n",
            " 7   pekerjaan_gaji_enc             9599 non-null   float64\n",
            " 8   Status Perkawinan_Berpisah     9599 non-null   float64\n",
            " 9   Status Perkawinan_Cerai        9599 non-null   float64\n",
            " 10  Status Perkawinan_Janda        9599 non-null   float64\n",
            " 11  Status Perkawinan_Menikah      9599 non-null   float64\n",
            " 12  Status Perkawinan_Menikah LDR  9599 non-null   float64\n",
            " 13  Jenis Kelamin_Laki2            9599 non-null   float64\n",
            "dtypes: float64(14)\n",
            "memory usage: 1.0 MB\n"
          ],
          "name": "stdout"
        }
      ]
    },
    {
      "cell_type": "code",
      "metadata": {
        "id": "CiQ2TJ4pFtHV",
        "colab_type": "code",
        "colab": {}
      },
      "source": [
        "#y_pred=clf.predict(scaled_X_2)\n",
        "y_pred=gscv.predict(scaled_X_2)\n",
        "#y_pred=grid.predict(scaled_X_2)\n",
        "y_pred=pd.DataFrame(y_pred)"
      ],
      "execution_count": 0,
      "outputs": []
    },
    {
      "cell_type": "code",
      "metadata": {
        "id": "zUZm6-9FFtHe",
        "colab_type": "code",
        "colab": {}
      },
      "source": [
        "X_3=pd.read_csv('https://drive.google.com/u/0/uc?id=1ER06sZV8E2VaMvSjLWGUyo7zWTkJ43S6&export=download')"
      ],
      "execution_count": 0,
      "outputs": []
    },
    {
      "cell_type": "code",
      "metadata": {
        "id": "YITCJ051FtHj",
        "colab_type": "code",
        "colab": {}
      },
      "source": [
        "y_pred_id=[X_3['id'],y_pred]\n",
        "y_pred_id=pd.concat(y_pred_id,axis=1)"
      ],
      "execution_count": 0,
      "outputs": []
    },
    {
      "cell_type": "code",
      "metadata": {
        "id": "-6ZN6O6tFtHn",
        "colab_type": "code",
        "colab": {}
      },
      "source": [
        "y_pred_id.to_csv('/home/KaggleSanberCode.csv',index=False,header=['id','Gaji'])"
      ],
      "execution_count": 0,
      "outputs": []
    },
    {
      "cell_type": "code",
      "metadata": {
        "id": "kJge-JxMFtHr",
        "colab_type": "code",
        "colab": {}
      },
      "source": [
        ""
      ],
      "execution_count": 0,
      "outputs": []
    }
  ]
}