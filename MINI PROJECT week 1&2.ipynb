{
 "cells": [
  {
   "cell_type": "markdown",
   "metadata": {},
   "source": [
    "# MINI-PROJECT 1 : REMOVE DUPLIKAT LIST"
   ]
  },
  {
   "cell_type": "code",
   "execution_count": 2,
   "metadata": {},
   "outputs": [
    {
     "name": "stdout",
     "output_type": "stream",
     "text": [
      "[1, 2, 3, 4, 5, 6, 7, 8]\n",
      "['Black Widow', 'Captain America', 'Hawkeye', 'Hulk', 'Iron-man', 'Thor']\n",
      "[1, 2, 3, 4, 5, 6, 7, 8]\n",
      "['Black Widow', 'Captain America', 'Hawkeye', 'Hulk', 'Iron-man', 'Thor']\n"
     ]
    }
   ],
   "source": [
    "# solusi tanpa menggunakan set\n",
    "def remove_duplicate(obj_list):\n",
    "    obj_list.sort()\n",
    "    i=0\n",
    "    while i<len(obj_list):\n",
    "        j=i+1\n",
    "        while j<len(obj_list):\n",
    "            if obj_list[i]==obj_list[j]:\n",
    "                del obj_list[j]\n",
    "            else :\n",
    "                j+=1\n",
    "        i+=1\n",
    "    return obj_list\n",
    "\n",
    "# solusi dengan menggunakan set\n",
    "def remove_duplicate_with_set(obj_list):\n",
    "    temp_list=set(obj_list)\n",
    "    new_list=list(temp_list)\n",
    "    new_list.sort()\n",
    "    return new_list\n",
    "\n",
    "number_list = [1, 2, 4, 6, 2, 1, 4, 5, 7, 8, 6, 4, 5, 2, 6, 7, 5, 2, 5, 2, 6, 8, 6, 1, 3]\n",
    "word_list = [\"Iron-man\", \"Hulk\", \"Black Widow\", \"Captain America\", \"Hawkeye\", \"Thor\", \"Hulk\", \"Iron-man\", \"Hawkeye\", \"Black Widow\"]\n",
    "\n",
    "print(remove_duplicate(number_list))\n",
    "print(remove_duplicate(word_list))\n",
    "print(remove_duplicate_with_set(number_list))\n",
    "print(remove_duplicate_with_set(word_list))"
   ]
  },
  {
   "cell_type": "markdown",
   "metadata": {},
   "source": [
    "# MINI-PROJECT 2 : MEMBUAT CHATBOT SEDERHANA"
   ]
  },
  {
   "cell_type": "code",
   "execution_count": 13,
   "metadata": {},
   "outputs": [
    {
     "name": "stdout",
     "output_type": "stream",
     "text": [
      ":)\n",
      "maaf, aku tidak tahu jawaban dari pertanyaanmu\n",
      "orang-orang memanggil saya Super Bot\n",
      "ya ampun masa tidak tahu, hari ini tanggal\n"
     ]
    }
   ],
   "source": [
    "# import library\n",
    "from datetime import datetime\n",
    "import random\n",
    "\n",
    "# ganti dengan sebuah nama\n",
    "nama  = \"Super Bot\"\n",
    "# variabel tanggal\n",
    "tanggal = datetime.now().day\n",
    "# default variabel untuk pertanyaan tidak diketahui\n",
    "default = \"maaf, aku tidak tahu jawaban dari pertanyaanmu\"\n",
    "\n",
    "# Membuat objek dictionary berisi berbagai opsi jawaban\n",
    "\n",
    "# list jawaban untuk pertanyaan tentang nama\n",
    "jawaban_nama = [\n",
    "      \"nama saya  {0}\".format(nama),\n",
    "      \"orang-orang memanggil saya {0}\".format(nama),\n",
    "      \"panggil saja saya {0}\".format(nama)\n",
    "   ]\n",
    "\n",
    "# list jawaban untuk pertanyaan tentang tanggal\n",
    "jawaban_tanggal = [\n",
    "      \"hari ini tanggal {0}\".format(tanggal),\n",
    "      \"ya ampun masa tidak tahu, hari ini tanggal\".format(tanggal)\n",
    "    ]\n",
    "\n",
    "# opsi pertanyaan yang bisa dijawab\n",
    "pertanyaan = {\n",
    "  \"nama kamu siapa?\": jawaban_nama,\n",
    "  \"kamu siapa?\" : jawaban_nama,\n",
    "  \"tanggal berapa hari ini?\": jawaban_tanggal,\n",
    "  \"hari ini tanggal berapa?\" : jawaban_tanggal,\n",
    "  \"default\": default\n",
    "}\n",
    "\n",
    "# list jawaban untuk sebuah argument selain pertanyaan\n",
    "statement =  [\n",
    "                  'ceritakan lebih banyak!',\n",
    "                  'kenapa kamu berpikir begitu?',\n",
    "                  'sudah berapa lama kamu merasa seperti ini?',\n",
    "                  'Itu sangat menarik!',\n",
    "                  'oh wow!',\n",
    "                  ':)'\n",
    "              ]\n",
    "\n",
    "# respon keseluruhan\n",
    "responses = {\n",
    "    'pertanyaan' : pertanyaan,\n",
    "    'statement' : statement\n",
    "}\n",
    "#------\n",
    "             \n",
    "# ayo buat chatbotmu\n",
    "def chatbot(message):\n",
    "    ## code disini\n",
    "    if '?' in message :\n",
    "        if message in pertanyaan:\n",
    "            message_key=pertanyaan[message]\n",
    "            return random.choice(message_key)\n",
    "        else:\n",
    "            return default\n",
    "    else : \n",
    "       return random.choice(statement)    \n",
    "    \n",
    "print(chatbot('Selamat Pagi'))\n",
    "print(chatbot('Mau bermain bersamaku?'))\n",
    "print(chatbot('nama kamu siapa?'))\n",
    "print(chatbot('hari ini tanggal berapa?'))"
   ]
  },
  {
   "cell_type": "code",
   "execution_count": null,
   "metadata": {},
   "outputs": [],
   "source": []
  }
 ],
 "metadata": {
  "kernelspec": {
   "display_name": "Python 3",
   "language": "python",
   "name": "python3"
  },
  "language_info": {
   "codemirror_mode": {
    "name": "ipython",
    "version": 3
   },
   "file_extension": ".py",
   "mimetype": "text/x-python",
   "name": "python",
   "nbconvert_exporter": "python",
   "pygments_lexer": "ipython3",
   "version": "3.7.6"
  }
 },
 "nbformat": 4,
 "nbformat_minor": 4
}
