{
 "cells": [
  {
   "cell_type": "markdown",
   "metadata": {
    "colab_type": "text",
    "id": "a9HYUdCUsrKl"
   },
   "source": [
    "<h2>Quiz 1 : Comparison Operator</h2>\n",
    "\n",
    "- Berikan contoh comparison dari tipe data string\n",
    "- Berikan contoh comparison dari tipe data boolean\n",
    "- Berikan contoh comparison dari tipe data integer"
   ]
  },
  {
   "cell_type": "code",
   "execution_count": 121,
   "metadata": {
    "colab": {},
    "colab_type": "code",
    "id": "lXMCHZ71srKp"
   },
   "outputs": [
    {
     "name": "stdout",
     "output_type": "stream",
     "text": [
      "False\n",
      "True\n",
      "False\n"
     ]
    }
   ],
   "source": [
    "tipe_data_string='ini string'\n",
    "print(tipe_data_string!='ini string') #contoh comparison dari tipe data string\n",
    "\n",
    "tipe_data_boolean=True\n",
    "print(tipe_data_boolean!=False) #contoh comparison dari tipe data boolean\n",
    "\n",
    "tipe_data_integer=617\n",
    "print(tipe_data_integer>=999999) #contoh comparison dari tipe data integer"
   ]
  },
  {
   "cell_type": "markdown",
   "metadata": {
    "colab_type": "text",
    "id": "IbNoZvVssrK5"
   },
   "source": [
    "<h2>Quiz 2 : Boolean Comparison</h2>\n",
    "\n",
    "- Berikan contoh gabungan multiple comparison menggunkan Boolean Comparisin 'and'\n",
    "- Berikan contoh gabungan multiple comparison menggunkan Boolean Comparisin 'or'\n",
    "- Berikan contoh gabungan multiple comparison menggunkan Boolean Comparisin 'not'"
   ]
  },
  {
   "cell_type": "code",
   "execution_count": 40,
   "metadata": {
    "colab": {},
    "colab_type": "code",
    "id": "7eU1vPLCsrK7"
   },
   "outputs": [
    {
     "name": "stdout",
     "output_type": "stream",
     "text": [
      "False\n",
      "True\n",
      "False\n"
     ]
    }
   ],
   "source": [
    "horse='kuda'\n",
    "umur_kuda=5\n",
    "print(horse=='kuda' and umur_kuda!=5) #contoh gabungan multiple comparison menggunkan Boolean Comparisin 'and'\n",
    "print(horse=='jerapah' or (umur_kuda>=1)) #contoh gabungan multiple comparison menggunkan Boolean Comparisin 'or'\n",
    "print(not horse)"
   ]
  },
  {
   "cell_type": "markdown",
   "metadata": {
    "colab_type": "text",
    "id": "Yp_g_sPMsrLH"
   },
   "source": [
    "<h2>Quiz 3 : If-Else Statement</h2>\n",
    "\n",
    "Lengkapi kode untuk menghasilkan suatu output yang di harapkan\n",
    "\n",
    "- Bualah sebuah if-else statement yang dimana akan mem-print 'Besar' jika ruangan adalah 'Kamar' dan ukuran lebih dari 12, kemudian mem-print 'Sedang' jika ruangan adalah 'Kamar' dan ukuran lebih dari 6 dan memprint 'Kecil' jika ruangan adalah 'Kamar' dan ukuran ruangan lebih kecil dan sama dengan 6."
   ]
  },
  {
   "cell_type": "code",
   "execution_count": 50,
   "metadata": {
    "colab": {},
    "colab_type": "code",
    "id": "euRiRNupsrLK"
   },
   "outputs": [
    {
     "name": "stdout",
     "output_type": "stream",
     "text": [
      "Besar\n"
     ]
    }
   ],
   "source": [
    "ruangan = 'Kamar'\n",
    "size = 20\n",
    "\n",
    "if ruangan=='Kamar' and size>12:\n",
    "    print('Besar')\n",
    "elif ruangan=='Kamar' and size>6 :\n",
    "    print('Sedang')\n",
    "elif ruangan=='Kamar' and size<=6:\n",
    "    print('Kecil')"
   ]
  },
  {
   "cell_type": "markdown",
   "metadata": {
    "colab_type": "text",
    "id": "IcoJXJT1srLW"
   },
   "source": [
    "<h2>Quiz 4 : Comparison Operator dengan fungsi</h2>\n",
    "\n",
    "Buatlah sebuah fungsi yang menerima satu argument bertipe data numeric dan menghasilkan sebuah return sebagai berikut :\n",
    "- menghasilkan return 'Aneh' jika nilai dari argument tersebut adalah bilangan ganjil\n",
    "- menghasilkan return 'Tidak Aneh' jika nilai dari argument tersebut adalah bilangan genap dan diantara nilai 2 sampai 5 (2 dan 5 termasuk)\n",
    "- menghasilkan return 'Aneh' jika nilai dari argument tersebut adalah bilangan genap dan diantara nilai 6 sampai 20 (6 dan 20 termasuk)\n",
    "- menghasilkan return 'Tidak Aneh' jika nilai dari argument tersebut adalah bilangan genap dan lebih besari dari 20"
   ]
  },
  {
   "cell_type": "code",
   "execution_count": 119,
   "metadata": {
    "colab": {},
    "colab_type": "code",
    "id": "g8F_qfEKsrLZ"
   },
   "outputs": [
    {
     "name": "stdout",
     "output_type": "stream",
     "text": [
      "Aneh\n",
      "Tidak Aneh\n",
      "Aneh\n",
      "Tidak Aneh\n"
     ]
    }
   ],
   "source": [
    "# Buat fungsi\n",
    "def argumen(numerik):\n",
    "    if numerik %2!=0:\n",
    "        return print('Aneh')\n",
    "    elif numerik %2==0 and numerik >=2 and numerik <=5:\n",
    "        return print('Tidak Aneh')\n",
    "    elif numerik %2==0 and numerik >=6 and numerik <=20:\n",
    "        return print('Aneh')\n",
    "    elif numerik %2==0 and numerik >20:\n",
    "        return print('Tidak Aneh')\n",
    "    \n",
    "argumen(1)\n",
    "argumen(4)\n",
    "argumen(8)\n",
    "argumen(50)"
   ]
  },
  {
   "cell_type": "markdown",
   "metadata": {
    "colab_type": "text",
    "id": "gf0D64xOsrLl"
   },
   "source": [
    "<h2>Quiz 5 : While Loop dan For Loop</h2>\n",
    "\n",
    "- Apa perbedaan while loop dan for loop?\\\n",
    "perbedaanya ialah for loop digunakan untuk perlakuan yang sama dan berulang kepada setiap elemen list yang ada sedangkan while loop digunakan pada setiap elemen selama statemen pada while loop benar\n",
    "\n",
    "\n",
    "- Berikan contoh sederhana cara menggunakan while loop dan for loop"
   ]
  },
  {
   "cell_type": "code",
   "execution_count": 89,
   "metadata": {
    "colab": {},
    "colab_type": "code",
    "id": "l7KIgpjHsrLo"
   },
   "outputs": [
    {
     "name": "stdout",
     "output_type": "stream",
     "text": [
      "Nama mobil di Indonesia adalah fortuner\n",
      "Nama mobil di Indonesia adalah xienta\n",
      "Nama mobil di Indonesia adalah avanza\n",
      "Nama mobil di Indonesia adalah xenia\n",
      "Nama mobil di Indonesia adalah livina\n",
      "Nama mobil di Indonesia adalah xpander\n",
      "nilai yang mempunyai kelipatan 10, diatas 40 dan kurang dari 110 adalah 100\n",
      "nilai yang mempunyai kelipatan 10, diatas 40 dan kurang dari 110 adalah 90\n",
      "nilai yang mempunyai kelipatan 10, diatas 40 dan kurang dari 110 adalah 80\n",
      "nilai yang mempunyai kelipatan 10, diatas 40 dan kurang dari 110 adalah 70\n",
      "nilai yang mempunyai kelipatan 10, diatas 40 dan kurang dari 110 adalah 60\n",
      "nilai yang mempunyai kelipatan 10, diatas 40 dan kurang dari 110 adalah 50\n"
     ]
    }
   ],
   "source": [
    "#Tulis Kode\n",
    "\n",
    "#contoh for loop\n",
    "nama_mobil=['fortuner','xienta','avanza', 'xenia', 'livina', 'xpander']\n",
    "for mobil in nama_mobil:\n",
    "    print (\"Nama mobil di Indonesia adalah \"+mobil)\n",
    "\n",
    "#contoh while loop\n",
    "angka=100\n",
    "while angka >=50:\n",
    "    print(\"nilai yang mempunyai kelipatan 10, diatas 40 dan kurang dari 110 adalah \" + str(angka))\n",
    "    angka-=10"
   ]
  },
  {
   "cell_type": "markdown",
   "metadata": {
    "colab_type": "text",
    "id": "fZQpBGCgsrLz"
   },
   "source": [
    "<h2>Quiz 6 : While Loop</h2>\n",
    "    \n",
    "Buatlah sebuah code while loop sebagai berikut :\n",
    "- Buatlah suatu fungsi yang merima satu input nilai numeric\n",
    "- Dalam fungsi, Buat sebuah while-loop dengan melakukan comparasi terhadap inputan tersebut, dimana looping/iterasi terus berjalan apabila nilai inputan tidak sama dengan 0\n",
    "- Dalam setiap iterasi update nilai variable inputan itu, jika input lebih dari 0, maka kurangi variabel tersebut sebesar 1, selain itu tambahkan 1\n",
    "- print nilai variable input dalam setiap awal iterasi"
   ]
  },
  {
   "cell_type": "code",
   "execution_count": 118,
   "metadata": {
    "colab": {},
    "colab_type": "code",
    "id": "yOiqjrU2srL1"
   },
   "outputs": [
    {
     "name": "stdout",
     "output_type": "stream",
     "text": [
      "10\n",
      "9\n",
      "8\n",
      "7\n",
      "6\n",
      "5\n",
      "4\n",
      "3\n",
      "2\n",
      "1\n"
     ]
    }
   ],
   "source": [
    "a = 10\n",
    "\n",
    "def fungsi_while(numeric):\n",
    "    while numeric!=0:\n",
    "        if numeric >0:\n",
    "            print(numeric)\n",
    "            numeric-=1\n",
    "        else:\n",
    "            print(numeric)\n",
    "            numeric+=1\n",
    "\n",
    "fungsi_while(a)"
   ]
  },
  {
   "cell_type": "markdown",
   "metadata": {
    "colab_type": "text",
    "id": "lKzngRrlsrMD"
   },
   "source": [
    "Expected Output :\n",
    "\n",
    "10\n",
    "\n",
    "9\n",
    "\n",
    "8\n",
    "\n",
    "7\n",
    "\n",
    "6\n",
    "\n",
    "5\n",
    "\n",
    "4\n",
    "\n",
    "3\n",
    "\n",
    "2\n",
    "\n",
    "1"
   ]
  },
  {
   "cell_type": "markdown",
   "metadata": {
    "colab_type": "text",
    "id": "IWg3Z_zZsrMG"
   },
   "source": [
    "<h2>Quiz 7 : For Loop</h2>\n",
    "    \n",
    "Lengkapi kode untuk menghasilkan suatu output yang di harapkan:\n",
    "\n",
    "- Buatlah sebuah loop dengan mengiterasi sebuah objek list kemudian di kalikan dengan index dari list tersebut dan print hasilnya"
   ]
  },
  {
   "cell_type": "code",
   "execution_count": 115,
   "metadata": {
    "colab": {},
    "colab_type": "code",
    "id": "_Jl5i7WKsrMI"
   },
   "outputs": [
    {
     "name": "stdout",
     "output_type": "stream",
     "text": [
      "0\n",
      "16\n",
      "22\n",
      "30\n",
      "20\n"
     ]
    }
   ],
   "source": [
    "obj_list= [1, 16, 11, 10, 5]\n",
    "\n",
    "# lengkapi code di bawah\n",
    "for index, obj in enumerate (obj_list):\n",
    "    print(int(index)*int(obj))\n"
   ]
  },
  {
   "cell_type": "markdown",
   "metadata": {
    "colab_type": "text",
    "id": "OGawROjnsrMU"
   },
   "source": [
    "Expected Output :\n",
    "\n",
    "0\n",
    "\n",
    "16\n",
    "\n",
    "22\n",
    "\n",
    "30\n",
    "\n",
    "20\n"
   ]
  }
 ],
 "metadata": {
  "colab": {
   "name": "Tugas Day 4.ipynb",
   "provenance": []
  },
  "kernelspec": {
   "display_name": "Python 3",
   "language": "python",
   "name": "python3"
  },
  "language_info": {
   "codemirror_mode": {
    "name": "ipython",
    "version": 3
   },
   "file_extension": ".py",
   "mimetype": "text/x-python",
   "name": "python",
   "nbconvert_exporter": "python",
   "pygments_lexer": "ipython3",
   "version": "3.7.6"
  }
 },
 "nbformat": 4,
 "nbformat_minor": 1
}
