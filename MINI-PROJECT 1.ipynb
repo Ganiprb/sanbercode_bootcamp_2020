{
 "cells": [
  {
   "cell_type": "markdown",
   "metadata": {},
   "source": [
    "# MINI-PROJECT 1 : REMOVE DUPLIKAT LIST"
   ]
  },
  {
   "cell_type": "code",
   "execution_count": 35,
   "metadata": {},
   "outputs": [
    {
     "name": "stdout",
     "output_type": "stream",
     "text": [
      "[1, 2, 3, 4, 5, 6, 7, 8]\n",
      "['Black Widow', 'Captain America', 'Hawkeye', 'Hulk', 'Iron-man', 'Thor']\n",
      "[1, 2, 3, 4, 5, 6, 7, 8]\n",
      "['Black Widow', 'Captain America', 'Hawkeye', 'Hulk', 'Iron-man', 'Thor']\n"
     ]
    }
   ],
   "source": [
    "# solusi tanpa menggunakan set\n",
    "def remove_duplicate(obj_list):\n",
    "    obj_list.sort()\n",
    "    i=0\n",
    "    while i<len(obj_list):\n",
    "        j=i+1\n",
    "        while j<len(obj_list):\n",
    "            if obj_list[i]==obj_list[j]:\n",
    "                del obj_list[j]\n",
    "            else :\n",
    "                j+=1\n",
    "        i+=1\n",
    "    return obj_list\n",
    "\n",
    "# solusi dengan menggunakan set\n",
    "def remove_duplicate_with_set(obj_list):\n",
    "    temp_list=set(obj_list)\n",
    "    new_list=list(temp_list)\n",
    "    new_list.sort()\n",
    "    return new_list\n",
    "\n",
    "number_list = [1, 2, 4, 6, 2, 1, 4, 5, 7, 8, 6, 4, 5, 2, 6, 7, 5, 2, 5, 2, 6, 8, 6, 1, 3]\n",
    "word_list = [\"Iron-man\", \"Hulk\", \"Black Widow\", \"Captain America\", \"Hawkeye\", \"Thor\", \"Hulk\", \"Iron-man\", \"Hawkeye\", \"Black Widow\"]\n",
    "\n",
    "print(remove_duplicate(number_list))\n",
    "print(remove_duplicate(word_list))\n",
    "print(remove_duplicate_with_set(number_list))\n",
    "print(remove_duplicate_with_set(word_list))\n",
    "#output :\n",
    "#[1, 2, 4, 6, 5, 7, 8]\n",
    "#[1, 2, 4, 5, 6, 7, 8]\n"
   ]
  },
  {
   "cell_type": "code",
   "execution_count": null,
   "metadata": {},
   "outputs": [],
   "source": []
  }
 ],
 "metadata": {
  "kernelspec": {
   "display_name": "Python 3",
   "language": "python",
   "name": "python3"
  },
  "language_info": {
   "codemirror_mode": {
    "name": "ipython",
    "version": 3
   },
   "file_extension": ".py",
   "mimetype": "text/x-python",
   "name": "python",
   "nbconvert_exporter": "python",
   "pygments_lexer": "ipython3",
   "version": "3.7.6"
  }
 },
 "nbformat": 4,
 "nbformat_minor": 4
}
